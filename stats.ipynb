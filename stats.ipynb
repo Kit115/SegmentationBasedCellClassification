{
 "cells": [
  {
   "cell_type": "code",
   "execution_count": 1,
   "id": "ce8247b8-bca5-4e1f-83e4-5eab62f8b83c",
   "metadata": {},
   "outputs": [],
   "source": [
    "import os\n",
    "import json"
   ]
  },
  {
   "cell_type": "code",
   "execution_count": 6,
   "id": "33f81eac-31a5-4f41-ac2f-392307cd24a5",
   "metadata": {},
   "outputs": [],
   "source": [
    "def load_json_as_object(path):\n",
    "    with open(path, \"r\") as f:\n",
    "        obj = json.load(f)\n",
    "    return obj"
   ]
  },
  {
   "cell_type": "code",
   "execution_count": 7,
   "id": "414bc767-4769-4773-80fb-3e32784a23cb",
   "metadata": {},
   "outputs": [
    {
     "data": {
      "text/plain": [
       "{'total_images': 252,\n",
       " 'total_cells': 2505,\n",
       " 'label_counts': {'Myofibroblast': 1186,\n",
       "  'UndifferentiatedMSC': 1021,\n",
       "  'PartiallydifferentiatedMSC': 298}}"
      ]
     },
     "execution_count": 7,
     "metadata": {},
     "output_type": "execute_result"
    }
   ],
   "source": [
    "def prepare_stats():\n",
    "    label_paths = [f\"raw_data/labels/{ln}\" for ln in os.listdir('raw_data/labels') if ln.endswith('.json')]\n",
    "\n",
    "    stats = {\n",
    "        \"total_images\": len(label_paths),\n",
    "        \"total_cells\": 0,\n",
    "        \"label_counts\": {}\n",
    "    }\n",
    "\n",
    "    for label_path in label_paths:\n",
    "        label_object = load_json_as_object(label_path)\n",
    "\n",
    "        masks = label_object['shapes']\n",
    "        stats[\"total_cells\"] += len(masks)\n",
    "        \n",
    "        for mask in masks:\n",
    "            cell_label = mask['label']\n",
    "            stats['label_counts'][cell_label] = stats['label_counts'].get(cell_label, 0) + 1\n",
    "    return stats\n",
    "\n",
    "stats = prepare_stats()\n",
    "stats"
   ]
  },
  {
   "cell_type": "code",
   "execution_count": null,
   "id": "79aefa33-3c11-4d0e-9647-36f70d0c275e",
   "metadata": {},
   "outputs": [],
   "source": []
  }
 ],
 "metadata": {
  "kernelspec": {
   "display_name": "Python 3 (ipykernel)",
   "language": "python",
   "name": "python3"
  },
  "language_info": {
   "codemirror_mode": {
    "name": "ipython",
    "version": 3
   },
   "file_extension": ".py",
   "mimetype": "text/x-python",
   "name": "python",
   "nbconvert_exporter": "python",
   "pygments_lexer": "ipython3",
   "version": "3.12.8"
  }
 },
 "nbformat": 4,
 "nbformat_minor": 5
}
